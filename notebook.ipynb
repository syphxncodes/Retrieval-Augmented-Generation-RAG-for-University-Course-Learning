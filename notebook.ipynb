{
 "cells": [
  {
   "cell_type": "code",
   "execution_count": 1,
   "metadata": {},
   "outputs": [],
   "source": [
    "import os\n",
    "MODEL = \"gemma2:latest\""
   ]
  },
  {
   "cell_type": "code",
   "execution_count": 2,
   "metadata": {},
   "outputs": [
    {
     "name": "stderr",
     "output_type": "stream",
     "text": [
      "C:\\Users\\Kodit\\AppData\\Local\\Temp\\ipykernel_40652\\4188133549.py:3: LangChainDeprecationWarning: The class `Ollama` was deprecated in LangChain 0.3.1 and will be removed in 1.0.0. An updated version of the class exists in the :class:`~langchain-ollama package and should be used instead. To use it run `pip install -U :class:`~langchain-ollama` and import as `from :class:`~langchain_ollama import OllamaLLM``.\n",
      "  model=Ollama(model=MODEL)\n",
      "C:\\Users\\Kodit\\AppData\\Local\\Temp\\ipykernel_40652\\4188133549.py:4: LangChainDeprecationWarning: The class `OllamaEmbeddings` was deprecated in LangChain 0.3.1 and will be removed in 1.0.0. An updated version of the class exists in the :class:`~langchain-ollama package and should be used instead. To use it run `pip install -U :class:`~langchain-ollama` and import as `from :class:`~langchain_ollama import OllamaEmbeddings``.\n",
      "  embeddings =  OllamaEmbeddings()\n"
     ]
    }
   ],
   "source": [
    "from langchain_community.llms import Ollama\n",
    "from langchain_community.embeddings import OllamaEmbeddings\n",
    "model=Ollama(model=MODEL)\n",
    "embeddings =  OllamaEmbeddings()"
   ]
  },
  {
   "cell_type": "code",
   "execution_count": 3,
   "metadata": {},
   "outputs": [
    {
     "data": {
      "text/plain": [
       "\"I am Gemma, an open-weights AI assistant. I'm a large language model trained by Google DeepMind. My purpose is to help users by understanding and responding to their requests in a helpful, informative, and comprehensive way.\\n\\nHere are some key things to know about me:\\n\\n* **Open-Weights:** My weights are publicly available, meaning anyone can access and study them.\\n* **Text-Only:** I can only communicate through text. I can't generate images, sound, or videos.\\n* **Limited Knowledge:** I don't have access to real-time information or the internet. My knowledge is based on the data I was trained on, which has a cutoff point.\\n* **Created by the Gemma Team:** I was developed by a team of engineers and researchers at Google DeepMind.\\n\\nI'm always learning and improving, and I'm excited to see how people use me to explore new ideas and accomplish their goals.\""
      ]
     },
     "execution_count": 3,
     "metadata": {},
     "output_type": "execute_result"
    }
   ],
   "source": [
    "model.invoke(\"who are u?\")"
   ]
  },
  {
   "cell_type": "code",
   "execution_count": 4,
   "metadata": {},
   "outputs": [
    {
     "data": {
      "text/plain": [
       "\"Why don't scientists trust atoms?\\n\\nBecause they make up everything! 🧪😄  \\n\\n\\nLet me know if you want to hear another one! 😊  \\n\""
      ]
     },
     "execution_count": 4,
     "metadata": {},
     "output_type": "execute_result"
    }
   ],
   "source": [
    "from langchain_core.output_parsers import StrOutputParser\n",
    "parser=StrOutputParser()\n",
    "chain=model|parser #The chain takes the model, and pipes it into the input of the next model, basically converting the output to a string.\n",
    "chain.invoke(\"Tell me a joke\")"
   ]
  },
  {
   "cell_type": "code",
   "execution_count": 5,
   "metadata": {},
   "outputs": [
    {
     "data": {
      "text/plain": [
       "[Document(metadata={'source': 'HO.pdf', 'page': 0, 'page_label': '1'}, page_content=\"BITS PILANI, DUBAI CAMPUS \\nACADEMIC – UNDERGRADUATE STUDIES DIVISION \\nSECOND SEMESTER 2022 – 2023 \\n \\nCourse Handout (Part – II) \\n            Date: 02.02.2023 \\nIn addition to Part I (General Handout for all courses appended to the Time Table) this portion further specific \\ndetails regarding the course.                                                                                                     \\n \\nCourse No   : HSS F365  (3 0 3)  \\nCourse Title   : SCIENCE OF SUSTAINABLE HAPPINESS \\nInstructor-in-charge  : Dr. Shazi Shah Jabeen \\nInstructors   : Dr. Shazi Shah Jabeen \\n \\nScope and objective of the course: \\nThis course aims at bringing about an understanding of what happiness is; why it matters to everyone ; key \\npsychological, social, and biological factors that relate to happiness; and the relationship between happiness, \\nhuman connection, and prosocial qualities, such as compassion, cooperation, mindfulness, and gratitude.  It \\noffers students practical strategies for tapping into and nurturing their own happiness, including trying several \\nstrategies and  \\n \\nCourse Pre/Co- requisite (if any) & Catalogue / activities that foster social and emotional well-being, and \\nexploring how their own happiness changes along the way.  Bulletin Description: Given in the Bulletin 2021 \\n– 2022. \\n \\nStudy Material: \\nText Books:  \\ni. Lyubomirsky, Sonja. (2007). The How of Happiness. New York: The Penguin Press.  \\nii. Other required reading materials will be provided to cover the topics in the course.  Students are \\nexpected to read a small number of journal articles as well. \\nReference books:  \\ni. O'Brien, Catherine. (2016). Education for Sustainable Happiness and Well -Being. New York: \\nRoutledge.  \\nii. Al Maktoum, Mohammed Bin Rashid. (2017). Reflections on Happiness and Positivity. Dubai: Explorer \\nPublishing and Distribution. \\nCourse plan:  \\nLec.# Learning objectives Contents References \\n@ \\n(Chapters) \\n \\n1 \\n \\nTo discuss what is happiness and why does happiness \\nmatter. \\nIntroduction to the Science \\nof Happiness 1 \\n2 To understand what is happiness and to study concepts of \\nhappiness across time and cultures What is happiness? 1 \\n3-4 \\nTo study biology/genetics, life circumstances and \\nIntentional activities, to understand the model of \\nsustainable happiness \\nWhat Determines \\nHappiness? \\n1, 2 (TB), \\nRB1 \\n5-7 To explain the relationship between gratitude and \\nhappiness, to discuss strategies to build optimism \\nExpressing Gratitude & \\nCultivating Optimism 4 \\n8-9 To understand the phenomena of rumination and social \\ncomparison and their adverse consequences \\nAvoiding Overthinking and \\nSocial Comparison 4 \\n10-11 To discuss the what and why of compassion and the \\nkindness-happiness loop  Compassion & Kindness  5, 8 \\n12-13 To comprehend why do social connections foster \\nhappiness \\nThe Power of Social \\nConnection 5 \\n14-16 To teach students how to develop coping strategies to \\nmanage stress, hardship, and trauma \\nManaging Stress, Hardship, \\nand Trauma 6 \\n17-19 To explain mindfulness, benefits of mindfulness for mind, \\nbrain and body and real-world applications of mindfulness \\nLiving in the Present, \\nMindfulness  \\n7, 9 (TB), \\nRB1 \\n20-21 To explain the benefits of pursuing goals and enable \\nstudents to commit to their goals Committing to Your Goals 8\"),\n",
       " Document(metadata={'source': 'HO.pdf', 'page': 1, 'page_label': '2'}, page_content='22-23 \\n \\nTo study cooperation and happiness, peacemaking and \\nreconciliation, the science of forgiveness and building trust \\nCooperation & \\nReconciliation  \\n6,7 \\n24-26 To discuss the benefits of practicing religion, spirituality, \\nmeditation and physical activity \\nTaking Care of Your Body \\nand Soul 9 \\n27-28 To discuss the correlation between self-compassion and \\nhappiness  Self-compassion RB1 \\n29-31 To comprehend mental habits of happiness and self-\\ncompassion: A path to resilience and happiness  \\nMental Habits of Happiness  10, RB1 \\n32-33 To discuss the role of: awe, wonder, beauty, laughter, \\nplay, and narrative in building happiness  \\nNew Frontiers and \\nHappiness “Fit”  2, 3 \\n34-36 To focus on the five hows behind sustainable happiness The Five Hows Behind \\nSustainable Happiness 10  \\n37-39 To enable students learn how to handle depression  If You are Depressed 11  \\n40-42 To discuss how to align education with sustainability and \\nhappiness \\n Sustainability, Happiness  \\nand Education RB1 \\n* The lectures may slightly diverge from aforesaid plan based on students ‘background & interest in the topic, which may \\nperhaps include special lectures and discussions that would be planned, scheduled and notified accordingly.  \\n \\nEvaluation Scheme: \\nEC \\nNo \\nEvaluation Components Duration Weightage Date & Time Venue \\n1 Quiz - 1 (Closed book) 20-25 minutes 10%     07.03.23 T5 \\nTo be \\nannounced  2 Quiz - 2 (Closed book) 20-25 minutes 10%     18.04.23 T5 \\n3 Assignment - I (Open book) - 10% TBA \\n4 Assignment - 2 (Open book) - 15% TBA \\n5 Assignment - 3 (Open book) - 15% TBA \\n6 Class Participation - 5% Continuous \\n7 Compre Exam (Closed book) 2 hours 35%  01.06.2023 AN \\n \\nMid-Sem Grading:  \\nMid-sem grading will be displayed after two evaluation components. (Refer Academic calendar for schedule). \\nNote: A student will be likely to get “NC”, if he / she  doesn’t appear / appear for the sake of appearing for \\nthe evaluation components / scoring zero in pre-compre total. \\n \\nMakeup and Attendance policies:  \\n \\nMake-ups: are not given as a routine. It is solely dependent upon the genuineness of the circumstances \\nunder which a student fails to appear in a scheduled evaluation component. In such circumstances, prior \\npermission should be obtained from the Instructor-in-Charge (I/C).Students with less than 60% of attendance \\nwill not be allowed to avail the make-ups. The decision of the I/C in the above matter will be final.  \\n \\nAttendance: Every student is expected to be responsible for regularity of his/her attendance in class rooms \\nand laboratories, to appear in scheduled tests and examinations and fulfill all other tasks assigned to him/her \\nin every course. A student should have a minimum of 60% of attendance in a course to be eligible to appear \\nfor the Comprehensive Examination in that course. For the students under the  purview of Academic \\nCounseling Board (ACB), the Board shall prescribe the minimum attendance requirement on a case-to-case \\nbasis. Attendance in the course will be a deciding factor in judging the seriousness of a student which may \\nbe directly / indirectly related to grading.  \\n \\nGeneral timings for consultation: \\nStudent can contact the faculty for consultation in her chamber in 3rd hr on Wednesday. \\n \\nGeneral instructions: \\nStudents should come prepared for classes and carry the prescribed text book(s) or material(s) as advised \\nby the Course Faculty to the class. \\n \\nNotices: \\nAll notices concerning the course will be displayed on the HSS Notice Board.  \\nInstructor-in-Charge \\nHSS F365 \\nContact details \\nDr. Shazi Shah Jabeen, Professor, Chamber No:128  Contact No: +9714  2753 700 Ext. 219 Mobile \\nNo: +971 50 3568318, email: shazi@dubai.bits-pilani,ac.in')]"
      ]
     },
     "execution_count": 5,
     "metadata": {},
     "output_type": "execute_result"
    }
   ],
   "source": [
    "from langchain_community.document_loaders import PyPDFLoader\n",
    "loader=PyPDFLoader(\"HO.pdf\")\n",
    "pages=loader.load_and_split()\n",
    "pages"
   ]
  },
  {
   "cell_type": "code",
   "execution_count": 6,
   "metadata": {},
   "outputs": [
    {
     "name": "stdout",
     "output_type": "stream",
     "text": [
      "\n",
      "Answer the question based on the context below and be accurate. If you cant, \n",
      "answer the question, reply \"I dont know\".\n",
      "\n",
      "Context:Here is some context\n",
      "\n",
      "Question:Here is a question\n"
     ]
    }
   ],
   "source": [
    "from langchain.prompts import PromptTemplate\n",
    "template=\"\"\"\n",
    "Answer the question based on the context below and be accurate. If you cant, \n",
    "answer the question, reply \"I dont know\".\n",
    "\n",
    "Context:{context}\n",
    "\n",
    "Question:{question}\"\"\"\n",
    "\n",
    "prompt= PromptTemplate.from_template(template)\n",
    "print(prompt.format(context=\"Here is some context\", question=\"Here is a question\"))"
   ]
  },
  {
   "cell_type": "code",
   "execution_count": 7,
   "metadata": {},
   "outputs": [],
   "source": [
    "chain = prompt | model | parser "
   ]
  },
  {
   "cell_type": "code",
   "execution_count": null,
   "metadata": {},
   "outputs": [],
   "source": [
    "from langchain_community.vectorstores import DocArrayInMemorySearch\n",
    "vectorstore = DocArrayInMemorySearch.from_documents(pages, embedding=embeddings)\n",
    "retriever=vectorstore.as_retriever()"
   ]
  },
  {
   "cell_type": "code",
   "execution_count": 11,
   "metadata": {},
   "outputs": [
    {
     "name": "stdout",
     "output_type": "stream",
     "text": [
      "Answer:The IC's name is Dr. Shazi Shah Jabeen.  \n",
      "\n"
     ]
    }
   ],
   "source": [
    "from operator import itemgetter\n",
    "chain=({\n",
    "    \"context\":itemgetter(\"question\")| retriever, #SO the question is also passed to the retriever,\n",
    "    \"question\":itemgetter(\"question\")\n",
    "}\n",
    "|prompt|model|parser)\n",
    "question=input(\"Enter the question from the file required:\")\n",
    "\n",
    "print(f\"Answer:{chain.invoke({'question':question})}\")"
   ]
  },
  {
   "cell_type": "code",
   "execution_count": null,
   "metadata": {},
   "outputs": [],
   "source": []
  },
  {
   "cell_type": "code",
   "execution_count": null,
   "metadata": {},
   "outputs": [],
   "source": []
  }
 ],
 "metadata": {
  "kernelspec": {
   "display_name": ".venv",
   "language": "python",
   "name": "python3"
  },
  "language_info": {
   "codemirror_mode": {
    "name": "ipython",
    "version": 3
   },
   "file_extension": ".py",
   "mimetype": "text/x-python",
   "name": "python",
   "nbconvert_exporter": "python",
   "pygments_lexer": "ipython3",
   "version": "3.12.7"
  }
 },
 "nbformat": 4,
 "nbformat_minor": 2
}
